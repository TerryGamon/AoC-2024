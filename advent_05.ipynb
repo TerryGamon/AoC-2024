{
 "cells": [
  {
   "cell_type": "code",
   "execution_count": 1,
   "metadata": {},
   "outputs": [],
   "source": [
    "import numpy as np"
   ]
  },
  {
   "cell_type": "code",
   "execution_count": 9,
   "metadata": {},
   "outputs": [
    {
     "data": {
      "text/plain": [
       "7365"
      ]
     },
     "execution_count": 9,
     "metadata": {},
     "output_type": "execute_result"
    }
   ],
   "source": [
    "file = open(\"input.txt\", \"r\")\n",
    "content = file.read()\n",
    "file.close()\n",
    "\n",
    "regeln_raw, seiten_raw = content.split(\"\\n\\n\")\n",
    "regeln = []\n",
    "for regel in regeln_raw.split(\"\\n\"):  \n",
    "    teile = regel.split(\"|\")       \n",
    "    regeln.append(teile)           \n",
    "\n",
    "seiten = []\n",
    "\n",
    "for line in seiten_raw.split(\"\\n\"):  \n",
    "    teile = line.split(\",\")         \n",
    "    seiten.append(teile)\n",
    "\n",
    "\n",
    "\n",
    "seiten_neu =[] #eingefügt für Teil 2\n",
    "\n",
    "ergebnis=0\n",
    "for anweisung in seiten:\n",
    "    ok = True\n",
    "    for regel in regeln:\n",
    "        mp = 0\n",
    "        r1 = regel[0]\n",
    "        r2 = regel[1]\n",
    "        if (r1 in anweisung) and (r2 in anweisung):\n",
    "            #print(r1,' ',r2,' ', anweisung)\n",
    "            pos_r1 = anweisung.index(r1)\n",
    "            pos_r2 = anweisung.index(r2)\n",
    "            if pos_r1>pos_r2:\n",
    "                ok = False\n",
    "                #print(r1,r2, anweisung, pos_r1, pos_r2)\n",
    "    if ok:\n",
    "        mp = int(anweisung[int(np.floor(len(anweisung)/2))])\n",
    "        ergebnis+=mp\n",
    "    else:\n",
    "        seiten_neu.append(anweisung)\n",
    "    \n",
    "ergebnis"
   ]
  },
  {
   "cell_type": "code",
   "execution_count": 18,
   "metadata": {},
   "outputs": [
    {
     "data": {
      "text/plain": [
       "5770"
      ]
     },
     "execution_count": 18,
     "metadata": {},
     "output_type": "execute_result"
    }
   ],
   "source": [
    "s = seiten_neu.copy()\n",
    "goon = True\n",
    "s_alt = s.copy()\n",
    "while goon:\n",
    "    s_neu=[]\n",
    "    ergebnis =0\n",
    "    for anweisung in s_alt:\n",
    "        ok = True\n",
    "        for regel in regeln:\n",
    "            r1 = regel[0]\n",
    "            r2 = regel[1]\n",
    "            if (r1 in anweisung) and (r2 in anweisung):\n",
    "                pos_r1 = anweisung.index(r1)\n",
    "                pos_r2 = anweisung.index(r2)\n",
    "                \n",
    "                if pos_r1>pos_r2:\n",
    "                    #print(r1,r2, anweisung, pos_r1, pos_r2)\n",
    "                    anweisung[pos_r1] = r2\n",
    "                    anweisung[pos_r2] = r1\n",
    "                    #print(r1,r2, anweisung, pos_r1, pos_r2)\n",
    "        mp = int(anweisung[int(np.floor(len(anweisung)/2))])\n",
    "        ergebnis+=mp\n",
    "        s_neu.append(anweisung)\n",
    "    if s_neu==s_alt:\n",
    "        goon=False\n",
    "\n",
    "ergebnis"
   ]
  },
  {
   "cell_type": "code",
   "execution_count": null,
   "metadata": {},
   "outputs": [],
   "source": []
  }
 ],
 "metadata": {
  "kernelspec": {
   "display_name": "Python 3",
   "language": "python",
   "name": "python3"
  },
  "language_info": {
   "codemirror_mode": {
    "name": "ipython",
    "version": 3
   },
   "file_extension": ".py",
   "mimetype": "text/x-python",
   "name": "python",
   "nbconvert_exporter": "python",
   "pygments_lexer": "ipython3",
   "version": "3.10.6"
  }
 },
 "nbformat": 4,
 "nbformat_minor": 2
}
