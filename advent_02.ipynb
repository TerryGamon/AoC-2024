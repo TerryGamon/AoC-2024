{
 "cells": [
  {
   "cell_type": "code",
   "execution_count": 187,
   "metadata": {},
   "outputs": [
    {
     "data": {
      "text/plain": [
       "[[5, 6, 7, 10, 13, 16, 13], [19, 21, 24, 27, 28, 28]]"
      ]
     },
     "execution_count": 187,
     "metadata": {},
     "output_type": "execute_result"
    }
   ],
   "source": [
    "data_raw = open('input02.txt').read()\n",
    "data = data_raw.strip().split(\"\\n\")\n",
    "\n",
    "\n",
    "data_neu = []\n",
    "for zeile in data:\n",
    "    split_line = zeile.split()\n",
    "    int_zeile = []\n",
    "    for element in split_line:\n",
    "        int_element = int(element)\n",
    "        int_zeile.append(int_element)\n",
    "    data_neu.append(int_zeile)\n",
    "data_neu\n",
    "#data = [list(map(int, line.split())) for line in data]\n",
    "data_neu[0:2]\n"
   ]
  },
  {
   "cell_type": "markdown",
   "metadata": {},
   "source": [
    "### Teil 1"
   ]
  },
  {
   "cell_type": "code",
   "execution_count": 188,
   "metadata": {},
   "outputs": [],
   "source": [
    "\n",
    "differences = [[j - i for i, j in zip(row[:-1], row[1:])] for row in data_neu]\n",
    "\n",
    "def testen(row):\n",
    "    same_sign = all(x > 0 for x in row) or all(x < 0 for x in row)\n",
    "    within_limit = all(abs(x) < 4 for x in row)\n",
    "    return same_sign and within_limit\n",
    "\n",
    "results = [testen(diff) for diff in differences]"
   ]
  },
  {
   "cell_type": "code",
   "execution_count": 189,
   "metadata": {},
   "outputs": [
    {
     "data": {
      "text/plain": [
       "299"
      ]
     },
     "execution_count": 189,
     "metadata": {},
     "output_type": "execute_result"
    }
   ],
   "source": [
    "sum(results)"
   ]
  },
  {
   "cell_type": "markdown",
   "metadata": {},
   "source": [
    "### Teil 2"
   ]
  },
  {
   "cell_type": "code",
   "execution_count": 190,
   "metadata": {},
   "outputs": [],
   "source": [
    "result = []\n",
    "for line in data_neu:\n",
    "    r = []\n",
    "    for x in range(len(line)):\n",
    "        new_list = line[:x] + line[x+1:]\n",
    "        differences = [new_list[i+1] - new_list[i] for i in range(len(new_list) - 1)]\n",
    "        e = (testen(differences))\n",
    "        r.append(e)\n",
    "    result.append(any(r))\n",
    "    "
   ]
  },
  {
   "cell_type": "code",
   "execution_count": 191,
   "metadata": {},
   "outputs": [
    {
     "data": {
      "text/plain": [
       "364"
      ]
     },
     "execution_count": 191,
     "metadata": {},
     "output_type": "execute_result"
    }
   ],
   "source": [
    "sum(result)"
   ]
  },
  {
   "cell_type": "code",
   "execution_count": null,
   "metadata": {},
   "outputs": [],
   "source": []
  }
 ],
 "metadata": {
  "kernelspec": {
   "display_name": "Python 3",
   "language": "python",
   "name": "python3"
  },
  "language_info": {
   "codemirror_mode": {
    "name": "ipython",
    "version": 3
   },
   "file_extension": ".py",
   "mimetype": "text/x-python",
   "name": "python",
   "nbconvert_exporter": "python",
   "pygments_lexer": "ipython3",
   "version": "3.11.5"
  }
 },
 "nbformat": 4,
 "nbformat_minor": 2
}
