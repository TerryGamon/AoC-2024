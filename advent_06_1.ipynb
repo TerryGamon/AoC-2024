{
 "cells": [
  {
   "cell_type": "code",
   "execution_count": 5,
   "metadata": {},
   "outputs": [],
   "source": [
    "import numpy as np"
   ]
  },
  {
   "cell_type": "code",
   "execution_count": 110,
   "metadata": {},
   "outputs": [],
   "source": [
    "file = open(\"input.txt\", \"r\")\n",
    "content = file.read()\n",
    "file.close()"
   ]
  },
  {
   "cell_type": "code",
   "execution_count": 116,
   "metadata": {},
   "outputs": [],
   "source": [
    "file = open(\"test.txt\", \"r\")\n",
    "content = file.read()\n",
    "file.close()"
   ]
  },
  {
   "cell_type": "code",
   "execution_count": 117,
   "metadata": {},
   "outputs": [],
   "source": [
    "c = content.split('\\n')\n",
    "c0= np.array([list(string) for string in c])\n"
   ]
  },
  {
   "cell_type": "code",
   "execution_count": null,
   "metadata": {},
   "outputs": [],
   "source": [
    "rows, cols = c0.shape\n",
    "c1 = c0.copy()\n",
    "#print(c1)\n",
    "y,x= np.where(c1=='^')\n",
    "x=x.item()\n",
    "y=y.item()\n",
    "#print(x,y)\n",
    "goon = True\n",
    "while goon == True:\n",
    "    if y>0:\n",
    "        e = c1[y-1,x]\n",
    "        c1[y,x] = 'X'\n",
    "        \n",
    "        if e=='#':\n",
    "            #print(x,y)\n",
    "            #print(c1)\n",
    "            c1 = np.rot90(c1,1)\n",
    "            x,y=y,rows-x-1\n",
    "            #print(x,y)\n",
    "            #print(c1)\n",
    "           \n",
    "        else:\n",
    "            y=y-1\n",
    "    if y==0:\n",
    "        c1[y,x]='X'\n",
    "        goon=False"
   ]
  },
  {
   "cell_type": "code",
   "execution_count": 119,
   "metadata": {},
   "outputs": [
    {
     "data": {
      "text/plain": [
       "(41,)"
      ]
     },
     "execution_count": 119,
     "metadata": {},
     "output_type": "execute_result"
    }
   ],
   "source": [
    "np.where(c1=='X')[0].shape"
   ]
  },
  {
   "cell_type": "code",
   "execution_count": 120,
   "metadata": {},
   "outputs": [
    {
     "data": {
      "text/plain": [
       "array([['.', '.', 'X', '#', '.', '.', '.', '.', '.', '.'],\n",
       "       ['.', '.', 'X', 'X', 'X', 'X', 'X', 'X', 'X', '#'],\n",
       "       ['.', '#', 'X', 'X', 'X', 'X', 'X', 'X', 'X', '.'],\n",
       "       ['.', 'X', 'X', 'X', 'X', 'X', 'X', 'X', '#', '.'],\n",
       "       ['.', 'X', '.', 'X', '.', 'X', '.', 'X', '.', '.'],\n",
       "       ['.', 'X', '#', 'X', 'X', 'X', 'X', 'X', '.', '.'],\n",
       "       ['.', 'X', '.', '.', '.', 'X', '.', '#', '.', '.'],\n",
       "       ['.', 'X', '.', '.', '.', 'X', '.', '.', '.', '.'],\n",
       "       ['#', 'X', 'X', 'X', 'X', 'X', '.', '.', '.', '.'],\n",
       "       ['.', '.', '.', '.', '.', '#', '.', '.', '.', '.']], dtype='<U1')"
      ]
     },
     "execution_count": 120,
     "metadata": {},
     "output_type": "execute_result"
    }
   ],
   "source": [
    "c1"
   ]
  },
  {
   "cell_type": "code",
   "execution_count": 121,
   "metadata": {},
   "outputs": [
    {
     "data": {
      "text/plain": [
       "array([['.', '.', '.', '.', '#', '.', '.', '.', '.', '.'],\n",
       "       ['.', '.', '.', '.', 'X', 'X', 'X', 'X', 'X', '#'],\n",
       "       ['.', '.', '.', '.', 'X', '.', '.', '.', 'X', '.'],\n",
       "       ['.', '.', '#', '.', 'X', '.', '.', '.', 'X', '.'],\n",
       "       ['.', '.', 'X', 'X', 'X', 'X', 'X', '#', 'X', '.'],\n",
       "       ['.', '.', 'X', '.', 'X', '.', 'X', '.', 'X', '.'],\n",
       "       ['.', '#', 'X', 'X', 'X', 'X', 'X', 'X', 'X', '.'],\n",
       "       ['.', 'X', 'X', 'X', 'X', 'X', 'X', 'X', '#', '.'],\n",
       "       ['#', 'X', 'X', 'X', 'X', 'X', 'X', 'X', '.', '.'],\n",
       "       ['.', '.', '.', '.', '.', '.', '#', 'X', '.', '.']], dtype='<U1')"
      ]
     },
     "execution_count": 121,
     "metadata": {},
     "output_type": "execute_result"
    }
   ],
   "source": [
    "np.rot90(c1,2)"
   ]
  },
  {
   "cell_type": "code",
   "execution_count": 90,
   "metadata": {},
   "outputs": [
    {
     "data": {
      "text/plain": [
       "array([['.', '.', '.', '.', '#', '.', '.', '.', '.', '.'],\n",
       "       ['.', '.', '.', '.', '.', '.', '.', '.', '.', '#'],\n",
       "       ['.', '.', '.', '.', '.', '.', '.', '.', '.', '.'],\n",
       "       ['.', '.', '#', '.', '.', '.', '.', '.', '.', '.'],\n",
       "       ['.', '.', '.', '.', '.', '.', '.', '#', '.', '.'],\n",
       "       ['.', '.', '.', '.', '.', '.', '.', '.', '.', '.'],\n",
       "       ['.', '#', '.', '.', '^', '.', '.', '.', '.', '.'],\n",
       "       ['.', '.', '.', '.', '.', '.', '.', '.', '#', '.'],\n",
       "       ['#', '.', '.', '.', '.', '.', '.', '.', '.', '.'],\n",
       "       ['.', '.', '.', '.', '.', '.', '#', '.', '.', '.']], dtype='<U1')"
      ]
     },
     "execution_count": 90,
     "metadata": {},
     "output_type": "execute_result"
    }
   ],
   "source": [
    "c0"
   ]
  },
  {
   "cell_type": "code",
   "execution_count": null,
   "metadata": {},
   "outputs": [],
   "source": []
  }
 ],
 "metadata": {
  "kernelspec": {
   "display_name": "Python 3",
   "language": "python",
   "name": "python3"
  },
  "language_info": {
   "codemirror_mode": {
    "name": "ipython",
    "version": 3
   },
   "file_extension": ".py",
   "mimetype": "text/x-python",
   "name": "python",
   "nbconvert_exporter": "python",
   "pygments_lexer": "ipython3",
   "version": "3.10.6"
  }
 },
 "nbformat": 4,
 "nbformat_minor": 2
}
