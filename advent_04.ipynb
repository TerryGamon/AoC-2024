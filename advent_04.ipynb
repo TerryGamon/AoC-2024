{
 "cells": [
  {
   "cell_type": "code",
   "execution_count": 1,
   "metadata": {},
   "outputs": [],
   "source": [
    "import pandas as pd\n",
    "import numpy as np\n",
    "import timeit\n",
    "import re"
   ]
  },
  {
   "cell_type": "code",
   "execution_count": 2,
   "metadata": {},
   "outputs": [],
   "source": [
    "file = open(\"input.txt\", \"r\")\n",
    "content = file.read()\n",
    "file.close()"
   ]
  },
  {
   "cell_type": "code",
   "execution_count": 192,
   "metadata": {},
   "outputs": [
    {
     "data": {
      "text/plain": [
       "array([['X', 'M', 'A', ..., 'A', 'M', 'X'],\n",
       "       ['M', 'S', 'M', ..., 'S', 'X', 'X'],\n",
       "       ['A', 'A', 'A', ..., 'M', 'M', 'S'],\n",
       "       ...,\n",
       "       ['M', 'X', 'X', ..., 'M', 'S', 'M'],\n",
       "       ['S', 'A', 'A', ..., 'S', 'A', 'M'],\n",
       "       ['M', 'X', 'S', ..., 'M', 'A', 'S']], dtype='<U1')"
      ]
     },
     "execution_count": 192,
     "metadata": {},
     "output_type": "execute_result"
    }
   ],
   "source": [
    "\n",
    "c = content.split()\n",
    "c0= np.array([list(string) for string in c])\n",
    "c0"
   ]
  },
  {
   "cell_type": "markdown",
   "metadata": {},
   "source": [
    "# Teil 1"
   ]
  },
  {
   "cell_type": "code",
   "execution_count": null,
   "metadata": {},
   "outputs": [],
   "source": [
    "\n",
    "# c =['MMMSXXMASM',\n",
    "#      'MSAMXMSMSA',\n",
    "#      'AMXSXMAAMM',\n",
    "#      'MSAMASMSMX',\n",
    "#      'XMASAMXAMM',\n",
    "#      'XXAMMXXAMA',\n",
    "#      'SMSMSASXSS',\n",
    "#      'SAXAMASAAA',\n",
    "#      'MAMMMXMMMM',\n",
    "#      'MXMXAXMASX']\n",
    "# c0= np.array([list(string) for string in c])"
   ]
  },
  {
   "cell_type": "code",
   "execution_count": null,
   "metadata": {},
   "outputs": [],
   "source": [
    "def waagrecht_finden(meine_matrix, pattern):\n",
    "    def find_all_occurrences_in_row(row, pattern):\n",
    "        row_str = ''.join(row)  \n",
    "        pattern_str = ''.join(pattern)\n",
    "        zaehler = 0\n",
    "        start = 0\n",
    "        while start < len(row_str):\n",
    "            index = row_str.find(pattern_str, start)\n",
    "            if index != -1:\n",
    "                zaehler += 1\n",
    "                start = index + 1  \n",
    "            else:\n",
    "                break\n",
    "        return zaehler\n",
    "\n",
    "    total_count = 0\n",
    "    for row in meine_matrix:\n",
    "        total_count += find_all_occurrences_in_row(row, pattern)\n",
    "    return total_count"
   ]
  },
  {
   "cell_type": "code",
   "execution_count": 105,
   "metadata": {},
   "outputs": [],
   "source": [
    "\n",
    "def diagnonal_finden_links_rechts(meine_matrix, pattern):\n",
    "    rows, cols = meine_matrix.shape\n",
    "    pattern_len = len(pattern)\n",
    "    gefunden = 0\n",
    "    wo = []\n",
    "\n",
    "    for start_row in range(rows):\n",
    "        for start_col in range(cols):\n",
    "            if start_row + pattern_len <= rows and start_col + pattern_len <= cols:\n",
    "                diagonal = [meine_matrix[start_row + i, start_col + i] for i in range(pattern_len)]\n",
    "                if diagonal == pattern:\n",
    "                    gefunden +=1\n",
    "    return gefunden\n",
    "\n",
    "def diagnonal_finden_rechts_links(meine_matrix, pattern):\n",
    "    rows, cols = meine_matrix.shape\n",
    "    pattern_len = len(pattern)\n",
    "    gefunden = 0\n",
    "    wo = []\n",
    "    for start_row in range(rows):\n",
    "        for start_col in range(cols):\n",
    "            if start_row + pattern_len <= rows and start_col - pattern_len + 1 >= 0:\n",
    "                anti_diagonal = [meine_matrix[start_row + i, start_col - i] for i in range(pattern_len)]\n",
    "                if anti_diagonal == pattern:\n",
    "                    gefunden +=1\n",
    "\n",
    "    return gefunden\n"
   ]
  },
  {
   "cell_type": "code",
   "execution_count": null,
   "metadata": {},
   "outputs": [
    {
     "name": "stdout",
     "output_type": "stream",
     "text": [
      "LR:225\n",
      "UO:207\n",
      "RL:217\n",
      "OU:226\n",
      "Normale:875\n",
      "diagOULR:390\n",
      "diagOURL:385\n",
      "diagUOLR:446\n",
      "diagUORL:464\n"
     ]
    },
    {
     "data": {
      "text/plain": [
       "2560"
      ]
     },
     "execution_count": 106,
     "metadata": {},
     "output_type": "execute_result"
    }
   ],
   "source": [
    "pattern = ['X','M','A','S']\n",
    "ergebnis = 0\n",
    "# links nach rechts\n",
    "ergebnis +=waagrecht_finden(c0, pattern=pattern)\n",
    "print(f'LR:{waagrecht_finden(c0, pattern=pattern)}')\n",
    "# unten nach oben\n",
    "c1 = np.rot90(c0)\n",
    "ergebnis +=waagrecht_finden(c1, pattern=pattern)\n",
    "print(f'UO:{waagrecht_finden(c1, pattern=pattern)}')\n",
    "\n",
    "# rechts nach links\n",
    "c2 = np.rot90(c1)\n",
    "ergebnis +=waagrecht_finden(c2, pattern=pattern)\n",
    "print(f'RL:{waagrecht_finden(c2, pattern=pattern)}')\n",
    "\n",
    "#das ist das gleiche wie:\n",
    "#print(f\"RL:{waagrecht_finden(c0, pattern= ['S', 'A', 'M', 'X'])}\")\n",
    "\n",
    "# oben nach unten\n",
    "c3 = np.rot90(c2)\n",
    "ergebnis +=waagrecht_finden(c3, pattern=pattern)\n",
    "print(f'OU:{waagrecht_finden(c3, pattern=pattern)}')\n",
    "\n",
    "# diagonal\n",
    "# O nach U, L nach R\n",
    "ergebnis +=diagnonal_finden_links_rechts(c0, pattern=pattern)\n",
    "print(f'diagOULR:{diagnonal_finden_links_rechts(c0, pattern=pattern)}')\n",
    "\n",
    "# O nach U, R nach L\n",
    "ergebnis +=diagnonal_finden_rechts_links(c0, pattern=pattern)\n",
    "print(f'diagOURL:{diagnonal_finden_rechts_links(c0, pattern=pattern)}')\n",
    "\n",
    "# U nach O, L nach R\n",
    "pattern = ['S', 'A', 'M', 'X']\n",
    "ergebnis +=diagnonal_finden_links_rechts(c0, pattern=pattern)\n",
    "print(f'diagUOLR:{diagnonal_finden_links_rechts(c0, pattern=pattern)}')\n",
    "\n",
    "# U nach O, R nach L\n",
    "ergebnis +=diagnonal_finden_rechts_links(c0, pattern=pattern)\n",
    "print(f'diagUORL:{diagnonal_finden_rechts_links(c0, pattern=pattern)}')\n",
    "ergebnis"
   ]
  },
  {
   "cell_type": "markdown",
   "metadata": {},
   "source": [
    "### Teil 2\n"
   ]
  },
  {
   "cell_type": "code",
   "execution_count": 193,
   "metadata": {},
   "outputs": [],
   "source": [
    "\n",
    "\n",
    "def durchforsten(pattern, verbose=False):\n",
    "        pattern = np.array([list(string) for string in pattern])\n",
    "        gefunden =0\n",
    "        for x in range(cols):\n",
    "                for y in range(rows):\n",
    "                        lo = c0[x,y]\n",
    "                        ro = c0[x,y+2]\n",
    "                        m = c0[x+1,y+1]\n",
    "                        lu = c0[x+2,y]\n",
    "                        ru=c0[x+2,y+2]\n",
    "                        if verbose:\n",
    "                                print(lo,'.',ro)\n",
    "                                print('.',m,'.')\n",
    "                                print(lu,'.',ru)\n",
    "                                print()\n",
    "                        #print(pattern[0,0],'.',pattern())\n",
    "                        if ((lo == pattern[0,0]) & (ro == pattern[0,2]) & (m == pattern[1,1]) & (lu == pattern[2,0]) & (ru == pattern[2,2])):\n",
    "                                gefunden +=1\n",
    "                                if verbose: \n",
    "                                        print('+',x,' ',y)\n",
    "                        if verbose:\n",
    "                                print()\n",
    "        return gefunden \n",
    "\n",
    "    "
   ]
  },
  {
   "cell_type": "code",
   "execution_count": 194,
   "metadata": {},
   "outputs": [],
   "source": [
    "# c= ['MMMSXXMASM',\n",
    "#     'MSAMXMSMSA',\n",
    "#     'AMXSXMAAMM',\n",
    "#     'MSAMASMSMX',\n",
    "#     'XMASAMXAMM',\n",
    "#     'XXAMMXXAMA',\n",
    "#     'SMSMSASXSS',\n",
    "#     'SAXAMASAAA',\n",
    "#     'MAMMMXMMMM',\n",
    "#     'MXMXAXMASX']\n",
    "# c0= np.array([list(string) for string in c])\n"
   ]
  },
  {
   "cell_type": "code",
   "execution_count": 195,
   "metadata": {},
   "outputs": [
    {
     "name": "stdout",
     "output_type": "stream",
     "text": [
      "443\n",
      "440\n",
      "570\n",
      "457\n"
     ]
    },
    {
     "data": {
      "text/plain": [
       "1910"
      ]
     },
     "execution_count": 195,
     "metadata": {},
     "output_type": "execute_result"
    }
   ],
   "source": [
    "rows = c0.shape[0]-2\n",
    "cols = c0.shape[1]-2\n",
    "n0 =['M.S',\n",
    "     '.A.',\n",
    "     'M.S']\n",
    "\n",
    "ergebnis = durchforsten(n0)\n",
    "print(ergebnis)\n",
    "n0 =['M.M',\n",
    "     '.A.',\n",
    "     'S.S']\n",
    "ergebnis += durchforsten(n0)\n",
    "print(durchforsten(n0))\n",
    "n0 =['S.S',\n",
    "     '.A.',\n",
    "     'M.M']\n",
    "ergebnis += durchforsten(n0)\n",
    "print(durchforsten(n0))\n",
    "n0 =['S.M',\n",
    "     '.A.',\n",
    "     'S.M']\n",
    "ergebnis += durchforsten(n0)\n",
    "print(durchforsten(n0))\n",
    "\n",
    "ergebnis"
   ]
  },
  {
   "cell_type": "code",
   "execution_count": null,
   "metadata": {},
   "outputs": [],
   "source": []
  }
 ],
 "metadata": {
  "kernelspec": {
   "display_name": "Python 3",
   "language": "python",
   "name": "python3"
  },
  "language_info": {
   "codemirror_mode": {
    "name": "ipython",
    "version": 3
   },
   "file_extension": ".py",
   "mimetype": "text/x-python",
   "name": "python",
   "nbconvert_exporter": "python",
   "pygments_lexer": "ipython3",
   "version": "3.10.6"
  }
 },
 "nbformat": 4,
 "nbformat_minor": 2
}
