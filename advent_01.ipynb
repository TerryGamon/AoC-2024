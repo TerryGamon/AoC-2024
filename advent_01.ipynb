{
 "cells": [
  {
   "cell_type": "code",
   "execution_count": 69,
   "metadata": {},
   "outputs": [],
   "source": [
    "import pandas as pd\n",
    "import numpy as np\n",
    "import timeit"
   ]
  },
  {
   "cell_type": "markdown",
   "metadata": {},
   "source": [
    "### Terry"
   ]
  },
  {
   "cell_type": "code",
   "execution_count": 70,
   "metadata": {},
   "outputs": [],
   "source": [
    "file = open(\"a.txt\", \"r\")\n",
    "content = file.read()\n",
    "file.close()\n"
   ]
  },
  {
   "cell_type": "code",
   "execution_count": 71,
   "metadata": {},
   "outputs": [],
   "source": [
    "def funktion1():\n",
    "    lines = content.strip().split(\"\\n\")\n",
    "    l = []\n",
    "    r = []\n",
    "\n",
    "    for line in lines:\n",
    "        links, rechts = line.split()\n",
    "        l.append(int(links))\n",
    "        r.append(int(rechts))\n",
    "\n",
    "    l = sorted(l)\n",
    "    r = sorted(r)\n",
    "\n",
    "    summe=0\n",
    "    for item in zip(l,r):\n",
    "        x=(abs(item[0]-item[1]))\n",
    "        summe = summe+x\n",
    "    #print(summe)\n",
    "\n",
    "\n",
    "    summe = 0\n",
    "    for item_l in l:\n",
    "        gefunden =0\n",
    "        for item_r in r:\n",
    "            if item_l == item_r:\n",
    "                gefunden +=1\n",
    "        summe = summe + item_l * gefunden\n",
    "    return summe\n",
    "\n"
   ]
  },
  {
   "cell_type": "code",
   "execution_count": 72,
   "metadata": {},
   "outputs": [],
   "source": [
    "def funktion2():\n",
    "    lines = content.strip().split(\"\\n\")\n",
    "    l = []\n",
    "    r = []\n",
    "\n",
    "    for line in lines:\n",
    "        links, rechts = line.split()\n",
    "        l.append(int(links))\n",
    "        r.append(int(rechts))\n",
    "\n",
    "    l = sorted(l)\n",
    "    r = sorted(r)\n",
    "\n",
    "    summe=0\n",
    "    for item in zip(l,r):\n",
    "        x=(abs(item[0]-item[1]))\n",
    "        summe = summe+x\n",
    "    #print(summe)\n",
    "\n",
    "    summe = 0\n",
    "    for item_l in l:\n",
    "        gefunden = sum([int(item == item_l) for item in r])\n",
    "        summe = summe + item_l*gefunden\n",
    "    return summe\n",
    "  "
   ]
  },
  {
   "cell_type": "markdown",
   "metadata": {},
   "source": [
    "### Panzi"
   ]
  },
  {
   "cell_type": "code",
   "execution_count": 73,
   "metadata": {},
   "outputs": [],
   "source": [
    "\n",
    "input = open('a.txt' , 'r' ).read()\n"
   ]
  },
  {
   "cell_type": "code",
   "execution_count": null,
   "metadata": {},
   "outputs": [],
   "source": [
    "def funktion3():\n",
    "    \n",
    "    s1 = input.split('\\n')\n",
    "\n",
    "    s = np.asarray([np.fromstring(x, dtype= int, sep = '   ') for x in s1] )\n",
    "\n",
    "    s.sort(axis = 0)\n",
    "\n",
    "    #print('result 1:')\n",
    "    result_1 = np.abs(np.diff(s,1, axis=1)).sum())\n",
    "    # %%\n",
    "    s = np.asarray([np.fromstring(x, dtype= int, sep = '   ') for x in s1] )\n",
    "\n",
    "    score = 0\n",
    "    for x in s[:,0]:\n",
    "        score = score + x * (sum(s[:,1] == x))\n",
    "    return score\n"
   ]
  },
  {
   "cell_type": "markdown",
   "metadata": {},
   "source": [
    "### Performance Vergleich"
   ]
  },
  {
   "cell_type": "code",
   "execution_count": 78,
   "metadata": {},
   "outputs": [
    {
     "name": "stdout",
     "output_type": "stream",
     "text": [
      "Function 1 10 runs, 100 iterations: 1.149888 seconds\n",
      "Function 2 10 runs, 100 iterations: 3.655493 seconds\n",
      "Function 3 10 runs,100 iterations: 4.260793 seconds\n"
     ]
    }
   ],
   "source": [
    "\n",
    "\n",
    "n = 10\n",
    "iterations = 100\n",
    "\n",
    "func1_times = [timeit.timeit(funktion1, number=iterations) for _ in range(n)]\n",
    "func2_times = [timeit.timeit(funktion2, number=iterations) for _ in range(n)]\n",
    "func3_times = [timeit.timeit(funktion3, number=iterations) for _ in range(n)]\n",
    "\n",
    "average_func1 = sum(func1_times) / n\n",
    "average_func2 = sum(func2_times) / n\n",
    "average_func3 = sum(func3_times) / n\n",
    "\n",
    "print(f\"Function 1 {n} runs, {iterations} iterations: {average_func1:.6f} seconds\")\n",
    "print(f\"Function 2 {n} runs, {iterations} iterations: {average_func2:.6f} seconds\")\n",
    "print(f\"Function 3 {n} runs,{iterations} iterations: {average_func3:.6f} seconds\")\n",
    "\n"
   ]
  },
  {
   "cell_type": "code",
   "execution_count": null,
   "metadata": {},
   "outputs": [],
   "source": []
  }
 ],
 "metadata": {
  "kernelspec": {
   "display_name": "Python 3",
   "language": "python",
   "name": "python3"
  },
  "language_info": {
   "codemirror_mode": {
    "name": "ipython",
    "version": 3
   },
   "file_extension": ".py",
   "mimetype": "text/x-python",
   "name": "python",
   "nbconvert_exporter": "python",
   "pygments_lexer": "ipython3",
   "version": "3.10.6"
  }
 },
 "nbformat": 4,
 "nbformat_minor": 2
}
