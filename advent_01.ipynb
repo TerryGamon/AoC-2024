{
 "cells": [
  {
   "cell_type": "code",
   "execution_count": 2,
   "metadata": {},
   "outputs": [],
   "source": [
    "import pandas as pd\n",
    "import numpy as np"
   ]
  },
  {
   "cell_type": "code",
   "execution_count": 3,
   "metadata": {},
   "outputs": [],
   "source": [
    "file = open(\"a.txt\", \"r\")\n",
    "content = file.read()\n",
    "file.close()\n",
    "\n",
    "lines = content.strip().split(\"\\n\")\n",
    "l = []\n",
    "r = []\n",
    "\n",
    "for line in lines:\n",
    "    links, rechts = line.split()\n",
    "    l.append(int(links))\n",
    "    r.append(int(rechts))"
   ]
  },
  {
   "cell_type": "code",
   "execution_count": 4,
   "metadata": {},
   "outputs": [],
   "source": [
    "l = sorted(l)\n",
    "r = sorted(r)"
   ]
  },
  {
   "cell_type": "code",
   "execution_count": 5,
   "metadata": {},
   "outputs": [
    {
     "name": "stdout",
     "output_type": "stream",
     "text": [
      "1388114\n"
     ]
    }
   ],
   "source": [
    "summe=0\n",
    "for item in zip(l,r):\n",
    "    x=(abs(item[0]-item[1]))\n",
    "    summe = summe+x\n",
    "print(summe)\n"
   ]
  },
  {
   "cell_type": "code",
   "execution_count": 7,
   "metadata": {},
   "outputs": [
    {
     "data": {
      "text/plain": [
       "23529853"
      ]
     },
     "execution_count": 7,
     "metadata": {},
     "output_type": "execute_result"
    }
   ],
   "source": [
    "summe = 0\n",
    "for item_l in l:\n",
    "    gefunden =0\n",
    "    for item_r in r:\n",
    "        if item_l == item_r:\n",
    "            gefunden +=1\n",
    "    summe = summe + item_l * gefunden\n",
    "summe    "
   ]
  },
  {
   "cell_type": "code",
   "execution_count": null,
   "metadata": {},
   "outputs": [],
   "source": []
  }
 ],
 "metadata": {
  "kernelspec": {
   "display_name": "Python 3",
   "language": "python",
   "name": "python3"
  },
  "language_info": {
   "codemirror_mode": {
    "name": "ipython",
    "version": 3
   },
   "file_extension": ".py",
   "mimetype": "text/x-python",
   "name": "python",
   "nbconvert_exporter": "python",
   "pygments_lexer": "ipython3",
   "version": "3.10.6"
  }
 },
 "nbformat": 4,
 "nbformat_minor": 2
}
