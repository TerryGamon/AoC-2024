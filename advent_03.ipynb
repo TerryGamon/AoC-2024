{
 "cells": [
  {
   "cell_type": "code",
   "execution_count": 1,
   "metadata": {},
   "outputs": [],
   "source": [
    "import pandas as pd\n",
    "import numpy as np\n",
    "import timeit\n",
    "import re"
   ]
  },
  {
   "cell_type": "markdown",
   "metadata": {},
   "source": [
    "### Terry"
   ]
  },
  {
   "cell_type": "code",
   "execution_count": 2,
   "metadata": {},
   "outputs": [],
   "source": [
    "file = open(\"input.txt\", \"r\")\n",
    "content = file.read()\n",
    "file.close()"
   ]
  },
  {
   "cell_type": "markdown",
   "metadata": {},
   "source": [
    "# Teil 1\n"
   ]
  },
  {
   "cell_type": "markdown",
   "metadata": {},
   "source": [
    "### Long version"
   ]
  },
  {
   "cell_type": "code",
   "execution_count": 3,
   "metadata": {},
   "outputs": [
    {
     "data": {
      "text/plain": [
       "192767529"
      ]
     },
     "execution_count": 3,
     "metadata": {},
     "output_type": "execute_result"
    }
   ],
   "source": [
    "pattern = r'mul\\(\\d{1,3},\\d{1,3}\\)'\n",
    "e1 = re.findall(pattern, content)\n",
    "\n",
    "e2 = []\n",
    "for item in e1:\n",
    "    numbers = re.findall(r'\\d+', item)\n",
    "    numbers = list(map(int, numbers))\n",
    "    e2.append(tuple(numbers))\n",
    "\n",
    "e3 = 0\n",
    "for item in e2:\n",
    "    e3 = e3 + item[0]*item[1]\n",
    "e3"
   ]
  },
  {
   "cell_type": "markdown",
   "metadata": {},
   "source": [
    "### Short Version\n",
    "(from chatgpt)"
   ]
  },
  {
   "cell_type": "code",
   "execution_count": 4,
   "metadata": {},
   "outputs": [
    {
     "data": {
      "text/plain": [
       "192767529"
      ]
     },
     "execution_count": 4,
     "metadata": {},
     "output_type": "execute_result"
    }
   ],
   "source": [
    "e3 = sum(int(a) * int(b) for a, b in (re.findall(r'\\d+', item) for item in re.findall(r'mul\\(\\d{1,3},\\d{1,3}\\)', content)))\n",
    "e3\n"
   ]
  },
  {
   "cell_type": "markdown",
   "metadata": {},
   "source": [
    "# Teil 2\n"
   ]
  },
  {
   "cell_type": "code",
   "execution_count": null,
   "metadata": {},
   "outputs": [],
   "source": [
    "c2 = 'xxxdo()'+ content  #es beginnt mit einem do(), also sicherheitshalber dazu\n",
    "c3 = c2.split(\"don't()\") #unterteilen wo don't() ist, die nächsten anweisungen gelten nicht\n",
    "c4 = [item for item in c3 if \"do()\" in item] #wenn nach einem don't kein do() mehr kommt dann sicherheitshalber weg damit\n",
    "\n",
    "#die Listenelement dort trennen wo wieder ein do() auftaucht\n",
    "c5 = []\n",
    "for item in c4:\n",
    "    t = (item.split(\"do()\"))\n",
    "    t.pop(0) #erstes Element, hier gilt noch don't() verwerfen\n",
    "    c5.append(t)\n",
    "\n",
    "# mul(x,y) suchen und in Liste  \n",
    "pattern = r'mul\\(\\d{1,3},\\d{1,3}\\)'\n",
    "c6=[]\n",
    "for sublist in c5:  \n",
    "    for item in sublist:  \n",
    "        if isinstance(item, str): \n",
    "            x = re.findall(pattern, item)\n",
    "            c6.extend(x)\n",
    "\n",
    "# in nur zahlen extrahieren und in Integer umwandeln\n",
    "c7 = []\n",
    "for item in c6:\n",
    "    numbers = re.findall(r'\\d+', item)\n",
    "    numbers = list(map(int, numbers))\n",
    "    c7.append(tuple(numbers))\n",
    "\n",
    "# Addieren\n",
    "c8 = 0\n",
    "for item in c7:\n",
    "    c8 = c8 + item[0]*item[1]\n",
    "c8"
   ]
  }
 ],
 "metadata": {
  "kernelspec": {
   "display_name": "Python 3",
   "language": "python",
   "name": "python3"
  },
  "language_info": {
   "codemirror_mode": {
    "name": "ipython",
    "version": 3
   },
   "file_extension": ".py",
   "mimetype": "text/x-python",
   "name": "python",
   "nbconvert_exporter": "python",
   "pygments_lexer": "ipython3",
   "version": "3.10.6"
  }
 },
 "nbformat": 4,
 "nbformat_minor": 2
}
